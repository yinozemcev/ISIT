{
 "cells": [
  {
   "cell_type": "code",
   "execution_count": 191,
   "id": "ac700aff",
   "metadata": {
    "scrolled": false
   },
   "outputs": [],
   "source": [
    "import pandas as pd\n",
    "import numpy as np\n",
    "from math import sqrt\n",
    "\"\"\"\n",
    "Для формализации нечисловых параметров модели были предприняты следующие действия:\n",
    "1) Округа\n",
    "За начало отсчета был взят САО, которому был присвоено значение 0\n",
    "Далее округа были по часовой стрелке (СВАО -> ВАО -> ЮВАО) были пронумерованы как 1 2 3,\n",
    "а округа против часовой стрелки (СЗАО -> ЗАО -> ЮЗАО) были пронумерованы как -1 -2 -3\n",
    "Московской области также был дан номер 0, поскольку неизвестно расстояние до округов Москвы и оно будет усреднено\n",
    "\n",
    "2) Знаки зодиака\n",
    "Так как знаки зодиака образуют кольцо для приведения их к числовым значениям можно воспользоваться следующими преобразованиями\n",
    "\n",
    "Овен - 0\n",
    "Телец - 1\n",
    "Близнецы - 2\n",
    "Рак - 3\n",
    "Лев - 4\n",
    "Дева - 5\n",
    "Весы - 6\n",
    "Скорпион - 5\n",
    "Стрелец - 4\n",
    "Козерог - 3\n",
    "Водолей - 2\n",
    "Рыбы - 1\n",
    "\n",
    "Значения для некоторых пар будут неравны естественному расстоянию между знаками, но оно проявится\n",
    "примерно для 12 пар из 66 возможных\n",
    "3) Любимый цвет\n",
    "\n",
    "В итоговую модель данный параметр не попал, поскольку нет даже ненаучных (по аналогии с астрологией) дисциплин,\n",
    "связывающих цвет глаз человека с какими-либо другими вещами\n",
    "\"\"\"\n",
    "terr = {'САО': 0, \n",
    "        'МО': 0, \n",
    "        'СВАО': 1, \n",
    "        'ВАО': 2, \n",
    "        'ЮВАО': 3, \n",
    "        'СЗАО': -1, \n",
    "        'ЗАО': -2, \n",
    "        'ЮЗАО': -3}\n",
    "zodiac = {'Овен': 0, \n",
    "          'Телец': 1, \n",
    "          'Близнецы': 2, \n",
    "          'Рак': 3, \n",
    "          'Лев': 4, \n",
    "          'Дева': 5, \n",
    "          'Весы': 6, \n",
    "          'Скорпион': 5, \n",
    "          'Стрелец': 4, \n",
    "          'Козерог': 3, \n",
    "          'Водолей': 2, \n",
    "          'Рыбы': 1}\n",
    "teacoffee = {'Ч': 0, 'К': 1}\n",
    "dataset = pd.read_csv('dataset.csv')\n",
    "dataset = dataset.replace({'Округ': terr, 'Знак зодиака': zodiac, 'К/Ч': teacoffee})\n",
    "dataset = dataset.drop('Любимый цвет', axis = 1)\n",
    "#Нормализация данных\n",
    "dataset = (dataset - dataset.min()) / (dataset.max() - dataset.min())\n",
    "#dataset"
   ]
  },
  {
   "cell_type": "code",
   "execution_count": 192,
   "id": "8592d287",
   "metadata": {},
   "outputs": [],
   "source": [
    "def k_nearest(k, dataset, new_series):\n",
    "    \"\"\"\n",
    "    k - число соседей, dataset - исследуемые данные, new_series - данные о неизвестном объекте\n",
    "    \n",
    "    Исключаем ответ о напитке из исследумых данных и вводим новый столбец - distances,\n",
    "    в котором будет храниться расстояние от каждого известного объекта до неизвестного\n",
    "    Сортируем данные по созданному столбцу и оставляем только первые k элементов\n",
    "    В итоге подсчитываем количество соседей по ответу о напитке и возвращаем его численное значение\n",
    "    \"\"\"\n",
    "    features = dataset.copy()\n",
    "    features = features.drop('К/Ч', axis = 1)\n",
    "    dataset['distances'] = np.linalg.norm(features - new_series, axis = 1)\n",
    "    knn = dataset.sort_values(by = 'distances')[:k]\n",
    "    return knn.value_counts('К/Ч').index[0]\n",
    "\n",
    "#print(k_nearest(5, dataset, [0.5, 0, 1, 0.5, 0.75]))"
   ]
  },
  {
   "cell_type": "code",
   "execution_count": 193,
   "id": "cfdf34ea",
   "metadata": {},
   "outputs": [
    {
     "name": "stdout",
     "output_type": "stream",
     "text": [
      "Введите данные о новом человеке (каждый параметр с новой строки)\n",
      "Округ : МО\n",
      "Знак зодиака : Весы\n",
      "Есть работа : 0\n",
      "Время подъема : 7\n",
      "Продолжительность сна : 9\n",
      "Введите параметр k (сколько ближайших соседей использовать)3\n",
      "Скорее всего, человек пьет чай\n"
     ]
    }
   ],
   "source": [
    "print('Введите данные о новом человеке (каждый параметр с новой строки)')\n",
    "new_object = []\n",
    "for feature in dataset.columns[:-1]:\n",
    "    new_object.append(input(f'{feature} : '))\n",
    "new_series = pd.DataFrame(new_object)\n",
    "new_series = new_series.replace(terr)\n",
    "new_series = new_series.replace(zodiac)\n",
    "new_series = new_series.astype(np.float64)\n",
    "new_series = (new_series - new_series.min()) / (new_series.max() - new_series.min())\n",
    "k = int(input('Введите параметр k (сколько ближайших соседей использовать)'))\n",
    "results = {0.0: 'чай', 1.0: 'кофе'}\n",
    "result = k_nearest(k, dataset, new_series)\n",
    "print(f'Скорее всего, человек пьет {results[result]}')"
   ]
  },
  {
   "cell_type": "code",
   "execution_count": null,
   "id": "041a2647",
   "metadata": {},
   "outputs": [],
   "source": []
  }
 ],
 "metadata": {
  "kernelspec": {
   "display_name": "Python 3 (ipykernel)",
   "language": "python",
   "name": "python3"
  },
  "language_info": {
   "codemirror_mode": {
    "name": "ipython",
    "version": 3
   },
   "file_extension": ".py",
   "mimetype": "text/x-python",
   "name": "python",
   "nbconvert_exporter": "python",
   "pygments_lexer": "ipython3",
   "version": "3.9.6"
  }
 },
 "nbformat": 4,
 "nbformat_minor": 5
}
