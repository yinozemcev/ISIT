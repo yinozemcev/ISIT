{
 "cells": [
  {
   "cell_type": "code",
   "execution_count": 1,
   "id": "d8a7bf9f",
   "metadata": {},
   "outputs": [],
   "source": [
    "import numpy as np\n",
    "from os.path import exists\n",
    "from random import random\n",
    "import matplotlib.pyplot as plt"
   ]
  },
  {
   "cell_type": "code",
   "execution_count": 2,
   "id": "d67b76ca",
   "metadata": {},
   "outputs": [],
   "source": [
    "STATE_COUNT=19683\n",
    "EMPTY=0\n",
    "CROSS=1\n",
    "ZERO=2\n",
    "\"\"\"\n",
    "8 7 6\n",
    "5 4 3\n",
    "2 1 0 \n",
    "\"\"\"\n",
    "WIN_COMBS=[[0, 1, 2], [0, 3, 6], [0, 4, 8], [1, 4, 7], [2, 4, 6], [2, 5, 8], [3, 4, 5], [6, 7, 8]]\n",
    "AGENT_1_PATH = 'agent1.values'\n",
    "AGENT_2_PATH = 'agent2.values'\n",
    "\n",
    "def isDraw(state):\n",
    "    return (np.count_nonzero(toArray(state)) == 9) and (not isWin(state, CROSS)) and (not isWin(state, ZERO))\n",
    "\n",
    "def isWin(state, marker):\n",
    "    cells = toArray(state)\n",
    "    for win_comb in WIN_COMBS:\n",
    "        if all(cells[i] == marker for i in win_comb):\n",
    "            return True\n",
    "    return False\n",
    "\n",
    "\n",
    "def toArray(state):\n",
    "    base_repr = np.base_repr(state, 3).rjust(9, '0')\n",
    "    return np.array([int(cell) for cell in base_repr]).flatten()     \n",
    "\n",
    "\n",
    "def toState(array):\n",
    "    return int(sum(array[i]*(3**(8-i)) for i in range(9)))"
   ]
  },
  {
   "cell_type": "code",
   "execution_count": 3,
   "id": "868fc769",
   "metadata": {},
   "outputs": [],
   "source": [
    "class Agent:\n",
    "    def __init__(self, marker, epsilon, alpha, value_path):\n",
    "        self.marker = marker\n",
    "        self.epsilon = epsilon\n",
    "        self.alpha = alpha\n",
    "        self.value_path = value_path\n",
    "        self.init_values()\n",
    "        self.path = list()\n",
    "    \n",
    "    def init_values(self):\n",
    "        if not exists(self.value_path):\n",
    "            self.values = np.full(shape=STATE_COUNT, fill_value=0.5)\n",
    "            for state in range(STATE_COUNT):\n",
    "                if isWin(state, self.marker):\n",
    "                    self.values[state] = 1\n",
    "            self.values.tofile(self.value_path)\n",
    "        else:\n",
    "            self.values = np.fromfile(self.value_path)\n",
    "    \n",
    "    def next_state(self, curr_field, cell):\n",
    "        next_field = curr_field.copy()\n",
    "        next_field[cell] = self.marker\n",
    "        return toState(next_field)\n",
    "    \n",
    "    def choice_place(self, prev_state):\n",
    "        prev_field = toArray(prev_state)\n",
    "        empty_cells = np.argwhere(prev_field == EMPTY).flatten()\n",
    "        curr_state = -1\n",
    "        \n",
    "        if random() > self.epsilon:\n",
    "            possible_states = np.array([self.next_state(prev_field, cell) for cell in empty_cells])\n",
    "            possible_values = np.array([self.values[st] for st in possible_states])\n",
    "            max_values = np.argwhere(possible_values == np.max(possible_values)).flatten()\n",
    "            curr_state = possible_states[np.random.choice(max_values)]\n",
    "        else:\n",
    "            curr_state = self.next_state(prev_field, np.random.choice(empty_cells))\n",
    "        \n",
    "        self.path.append(curr_state)\n",
    "        return curr_state\n",
    "    \n",
    "    def reset(self):\n",
    "        self.path.clear()\n",
    "        \n",
    "    def update_values(self, reward):\n",
    "        for state in reversed(self.path):\n",
    "            self.values[state] += self.alpha*(reward - self.values[state])\n",
    "            reward = self.values[state]\n",
    "    \n",
    "    def save_values(self):\n",
    "        self.values.tofile(self.value_path)\n",
    "        return self.values"
   ]
  },
  {
   "cell_type": "code",
   "execution_count": 4,
   "id": "a77c8cf4",
   "metadata": {},
   "outputs": [],
   "source": [
    "class Game:\n",
    "    def __init__(self, agent1, agent2):\n",
    "        self.agent1 = agent1\n",
    "        self.agent2 = agent2\n",
    "        self.state = EMPTY\n",
    "        self.gameEnded = False\n",
    "        self.agent1_wins = 0\n",
    "        self.agent2_wins = 0\n",
    "    \n",
    "    def end_game(self, reward1, reward2):\n",
    "        self.agent1.update_values(reward1)\n",
    "        self.agent2.update_values(reward2)\n",
    "        self.agent1.reset()\n",
    "        self.agent2.reset()\n",
    "        self.gameEnded = True\n",
    "    \n",
    "    def set_state(self, new_state):\n",
    "        if isWin(new_state, CROSS):\n",
    "            self.end_game(1, 0)\n",
    "            self.agent1_wins += 1\n",
    "        elif isWin(new_state, ZERO):\n",
    "            self.end_game(0, 1)\n",
    "            self.agent2_wins += 1\n",
    "        elif isDraw(new_state):\n",
    "            self.end_game(0.5, 0.5)\n",
    "        else:\n",
    "            self.state = new_state\n",
    "    \n",
    "    def play(self, iteration_count):\n",
    "        for _ in range(iteration_count):\n",
    "            self.gameEnded = False\n",
    "            self.state = EMPTY\n",
    "            while not self.gameEnded:\n",
    "                move1 = self.agent1.choice_place(self.state)\n",
    "                self.set_state(move1)\n",
    "                if not self.gameEnded:\n",
    "                    move2 = self.agent2.choice_place(self.state)\n",
    "                    self.set_state(move2)\n",
    "        \n",
    "        values1 = self.agent1.save_values()\n",
    "        values2 = self.agent2.save_values()"
   ]
  },
  {
   "cell_type": "code",
   "execution_count": 5,
   "id": "7a66acc0",
   "metadata": {},
   "outputs": [],
   "source": [
    "def show_stats(agent1_stat, agent2_stat, training_iterations):\n",
    "    x = np.arange(training_iterations)\n",
    "    y1 = np.array(agent1_stat)\n",
    "    y2 = np.array(agent2_stat)\n",
    "    \n",
    "    plt.xlabel = 'Номер игровой сессии'\n",
    "    plt.ylabel = 'Количество побед в сессии'\n",
    "    plt.xticks(x)\n",
    "    plt.plot(x, y1)\n",
    "    plt.plot(x, y2)\n",
    "    plt.show()"
   ]
  },
  {
   "cell_type": "code",
   "execution_count": 6,
   "id": "f942faf6",
   "metadata": {
    "scrolled": true
   },
   "outputs": [],
   "source": [
    "def session(agent1_path, agent2_path, epsilon, alpha, training_iterations, game_count):\n",
    "    agent1_stat = list()\n",
    "    agent2_stat = list()\n",
    "    for _ in range(training_iterations):\n",
    "        agent1 = Agent(CROSS, 0.01, 0.5, agent1_path)\n",
    "        agent2 = Agent(ZERO, 0.01, 0.5, agent2_path)\n",
    "        game = Game(agent1, agent2)\n",
    "        game.play(game_count)\n",
    "        agent1_stat.append(game.agent1_wins)\n",
    "        agent2_stat.append(game.agent2_wins)\n",
    "    \n",
    "    show_stats(agent1_stat, agent2_stat, training_iterations)"
   ]
  },
  {
   "cell_type": "code",
   "execution_count": 7,
   "id": "88ec838d",
   "metadata": {
    "scrolled": false
   },
   "outputs": [
    {
     "data": {
      "image/png": "[encoded data removed]",
      "text/plain": [
       "<Figure size 432x288 with 1 Axes>"
      ]
     },
     "metadata": {
      "needs_background": "light"
     },
     "output_type": "display_data"
    }
   ],
   "source": [
    "session('agent1.values', 'agent2.values', 0.3, 0.5, 20, 10000) #обучение"
   ]
  },
  {
   "cell_type": "code",
   "execution_count": 8,
   "id": "77794390",
   "metadata": {
    "scrolled": false
   },
   "outputs": [
    {
     "data": {
      "image/png": "[encoded data removed]",
      "text/plain": [
       "<Figure size 432x288 with 1 Axes>"
      ]
     },
     "metadata": {
      "needs_background": "light"
     },
     "output_type": "display_data"
    }
   ],
   "source": [
    "session('agent1.values', 'agent2.values', 0, 0.9, 20, 1000) #игра обученных агентов"
   ]
  }
 ],
 "metadata": {
  "kernelspec": {
   "display_name": "Python 3 (ipykernel)",
   "language": "python",
   "name": "python3"
  },
  "language_info": {
   "codemirror_mode": {
    "name": "ipython",
    "version": 3
   },
   "file_extension": ".py",
   "mimetype": "text/x-python",
   "name": "python",
   "nbconvert_exporter": "python",
   "pygments_lexer": "ipython3",
   "version": "3.9.6"
  }
 },
 "nbformat": 4,
 "nbformat_minor": 5
}
